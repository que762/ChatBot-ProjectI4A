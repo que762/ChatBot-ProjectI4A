{
 "cells": [
  {
   "cell_type": "markdown",
   "metadata": {},
   "source": [
    "# Parcoursup dataset conversion to sentences and embeddings"
   ]
  },
  {
   "cell_type": "markdown",
   "metadata": {},
   "source": [
    "### Import dataset : https://www.data.gouv.fr/fr/datasets/cartographie-des-formations-parcoursup/"
   ]
  },
  {
   "cell_type": "code",
   "execution_count": 55,
   "metadata": {},
   "outputs": [],
   "source": [
    "import pandas as pd"
   ]
  },
  {
   "cell_type": "code",
   "execution_count": 56,
   "metadata": {},
   "outputs": [
    {
     "name": "stderr",
     "output_type": "stream",
     "text": [
      "/tmp/ipykernel_36536/1273215455.py:1: DtypeWarning: Columns (14) have mixed types. Specify dtype option on import or set low_memory=False.\n",
      "  formations_dataset = pd.read_csv('fr-esr-cartographie_formations_parcoursup.csv', delimiter=';')\n"
     ]
    }
   ],
   "source": [
    "formations_dataset = pd.read_csv('fr-esr-cartographie_formations_parcoursup.csv', delimiter=';')\n",
    "formations_dataset = formations_dataset.drop(columns=['etab_uai', 'dataviz', 'gta',\n",
    "                                                      'gti', 'etablissement_id_paysage',\n",
    "                                                      'composante_id_paysage', 'code_formation',\n",
    "                                                      'fl', 'nmc', 'rnd', 'tf'])"
   ]
  },
  {
   "cell_type": "code",
   "execution_count": 57,
   "metadata": {},
   "outputs": [],
   "source": [
    "def normalize_formations(df : pd.DataFrame):\n",
    "    # int\n",
    "    df['int'] = df['int'].fillna(0)\n",
    "    df['int'] = df['int'].astype(str)\n",
    "    df['int_f'] = 0\n",
    "    df['int_m'] = 0\n",
    "    df['int_f'] = df['int'].str.contains('filles').astype(int)\n",
    "    df['int_m'] = df['int'].str.contains('garçons').astype(int)\n",
    "    df = df.drop(columns=['int'])\n",
    "\n",
    "    # app\n",
    "    df['app'] = df['app'].fillna(0)\n",
    "    df['app'] = df['app'].replace('Formations en apprentissage', 1)\n",
    "\n",
    "    # tc\n",
    "    df['tc'] = df['tc'].apply(lambda x: 1 if 'Privé' in x else 0)\n",
    "\n",
    "    # aut\n",
    "    df['aut'] = df['aut'].fillna(-1)\n",
    "    df['aut'] = df['aut'].astype(str)\n",
    "    df['aut'] = df['aut'].apply(lambda x: 1 if 'hors Parcoursup' in x else 0)\n",
    "    df['aut'] = df['aut'].astype(int)\n",
    "\n",
    "    # amg\n",
    "    df_amg = pd.DataFrame(columns=['amg_p', 'amg_ed', 'amg_pd', 'amg_s', 'amg_a'])\n",
    "    df_amg['amg_p'] = 0\n",
    "    df_amg['amg_ed'] = 0\n",
    "    df_amg['amg_pd'] = 0\n",
    "    df_amg['amg_s'] = 0\n",
    "    df_amg['amg_a'] = 0\n",
    "\n",
    "    df_amg['amg_p'] = df['amg'].apply(lambda x: 1 if 'présentiel' in x else 0)\n",
    "    df_amg['amg_ed'] = df['amg'].apply(lambda x: 1 if 'entièrement à distance' in x else 0)\n",
    "    df_amg['amg_pd'] = df['amg'].apply(lambda x: 1 if 'partiellement à distance' in x else 0)\n",
    "    df_amg['amg_s'] = df['amg'].apply(lambda x: 1 if 'sportifs' in x else 0)\n",
    "    df_amg['amg_a'] = df['amg'].apply(lambda x: 1 if 'artistes' in x else 0)\n",
    "\n",
    "    df = pd.concat([df, df_amg], axis=1)\n",
    "    df = df.drop(columns=['amg'])\n",
    "\n",
    "    return df"
   ]
  },
  {
   "cell_type": "markdown",
   "metadata": {},
   "source": [
    "### Conversion to sentences for sentence comparison"
   ]
  },
  {
   "cell_type": "code",
   "execution_count": 64,
   "metadata": {},
   "outputs": [],
   "source": [
    "def convert_to_description(row):\n",
    "    # check nan\n",
    "    if not type(row['commune']) == float:\n",
    "        if row['commune'] not in row['etab_nom']:\n",
    "            sent= f\"{row['etab_nom']}, située en {row['departement']} à {row['commune']}, est une école qui propose la formation : {row['nm']}.\"\n",
    "        else:\n",
    "            sent= f\"{row['etab_nom']}, située en {row['departement']}, est une école qui propose la formation : {row['nm']}.\"\n",
    "    else:\n",
    "        sent= f\"{row['etab_nom']}, située en {row['departement']}, est une école qui propose la formation : {row['nm']}.\"\n",
    "    if row['tc'] == 1:\n",
    "        sent += \" Cette école est privée \"\n",
    "    else :\n",
    "        sent += \" Cette école est publique \"\n",
    "    if row['app'] == 1:\n",
    "        sent += \" et propose des formations en apprentissage.\"\n",
    "    else:\n",
    "        sent += \".\"\n",
    "    if row['int_f'] and row['int_m']:\n",
    "        sent += \" Cette école propose un internat mixte.\"\n",
    "    elif row['int_f']:\n",
    "        sent += \" Cette école propose un internat pour filles.\"\n",
    "    elif row['int_m']:\n",
    "        sent += \" Cette école propose un internat pour garçons.\"\n",
    "    if row['amg_p'] == 1:\n",
    "        sent += \" Cette école propose des formations en présentiel.\"\n",
    "    if row['amg_ed'] == 1:\n",
    "        sent += \" Cette école propose des formations entièrement à distance.\"\n",
    "    if row['amg_pd'] == 1:\n",
    "        sent += \" Cette école propose des formations partiellement à distance.\"\n",
    "    if row['amg_s'] == 1:\n",
    "        sent += \" Cette école propose des formations pour sportifs.\"\n",
    "    if row['amg_a'] == 1:\n",
    "        sent += \" Cette école propose des formations pour artistes.\"\n",
    "    return sent"
   ]
  },
  {
   "cell_type": "code",
   "execution_count": 65,
   "metadata": {},
   "outputs": [],
   "source": [
    "def create_dataframe_description(df):\n",
    "    df_desc = pd.DataFrame(columns=['description', 'url'])\n",
    "    df_desc['description'] = df.apply(lambda row: convert_to_description(row), axis=1)\n",
    "    df_desc['url'] = df['fiche']\n",
    "    return df_desc"
   ]
  },
  {
   "cell_type": "code",
   "execution_count": 66,
   "metadata": {},
   "outputs": [
    {
     "data": {
      "text/html": [
       "<div>\n",
       "<style scoped>\n",
       "    .dataframe tbody tr th:only-of-type {\n",
       "        vertical-align: middle;\n",
       "    }\n",
       "\n",
       "    .dataframe tbody tr th {\n",
       "        vertical-align: top;\n",
       "    }\n",
       "\n",
       "    .dataframe thead th {\n",
       "        text-align: right;\n",
       "    }\n",
       "</style>\n",
       "<table border=\"1\" class=\"dataframe\">\n",
       "  <thead>\n",
       "    <tr style=\"text-align: right;\">\n",
       "      <th></th>\n",
       "      <th>description</th>\n",
       "      <th>url</th>\n",
       "    </tr>\n",
       "  </thead>\n",
       "  <tbody>\n",
       "    <tr>\n",
       "      <th>0</th>\n",
       "      <td>Institut Catholique de Lyon (Lyon 2e  Arrondis...</td>\n",
       "      <td>https://dossier.parcoursup.fr/Candidats/public...</td>\n",
       "    </tr>\n",
       "    <tr>\n",
       "      <th>1</th>\n",
       "      <td>Institut Catholique de Lyon (Lyon 2e  Arrondis...</td>\n",
       "      <td>https://dossier.parcoursup.fr/Candidats/public...</td>\n",
       "    </tr>\n",
       "    <tr>\n",
       "      <th>2</th>\n",
       "      <td>Institut Catholique de Lyon (Lyon 2e  Arrondis...</td>\n",
       "      <td>https://dossier.parcoursup.fr/Candidats/public...</td>\n",
       "    </tr>\n",
       "    <tr>\n",
       "      <th>3</th>\n",
       "      <td>Université de Rennes (EPE) - Site de Saint-Bri...</td>\n",
       "      <td>https://dossier.parcoursup.fr/Candidats/public...</td>\n",
       "    </tr>\n",
       "    <tr>\n",
       "      <th>4</th>\n",
       "      <td>Nantes Université (44), située en Loire-Atlant...</td>\n",
       "      <td>https://dossier.parcoursup.fr/Candidats/public...</td>\n",
       "    </tr>\n",
       "    <tr>\n",
       "      <th>...</th>\n",
       "      <td>...</td>\n",
       "      <td>...</td>\n",
       "    </tr>\n",
       "    <tr>\n",
       "      <th>105878</th>\n",
       "      <td>Université Paris Nanterre (92), située en Haut...</td>\n",
       "      <td>NaN</td>\n",
       "    </tr>\n",
       "    <tr>\n",
       "      <th>105879</th>\n",
       "      <td>Ecole Universitaire de Premier Cycle - Univers...</td>\n",
       "      <td>NaN</td>\n",
       "    </tr>\n",
       "    <tr>\n",
       "      <th>105880</th>\n",
       "      <td>Lycée Maurice Genevoix (Montrouge - 92), situé...</td>\n",
       "      <td>NaN</td>\n",
       "    </tr>\n",
       "    <tr>\n",
       "      <th>105881</th>\n",
       "      <td>Ecole Universitaire de premier cycle - Campus ...</td>\n",
       "      <td>NaN</td>\n",
       "    </tr>\n",
       "    <tr>\n",
       "      <th>105882</th>\n",
       "      <td>Lycée Montalembert (Courbevoie - 92), située e...</td>\n",
       "      <td>NaN</td>\n",
       "    </tr>\n",
       "  </tbody>\n",
       "</table>\n",
       "<p>105883 rows × 2 columns</p>\n",
       "</div>"
      ],
      "text/plain": [
       "                                              description  \\\n",
       "0       Institut Catholique de Lyon (Lyon 2e  Arrondis...   \n",
       "1       Institut Catholique de Lyon (Lyon 2e  Arrondis...   \n",
       "2       Institut Catholique de Lyon (Lyon 2e  Arrondis...   \n",
       "3       Université de Rennes (EPE) - Site de Saint-Bri...   \n",
       "4       Nantes Université (44), située en Loire-Atlant...   \n",
       "...                                                   ...   \n",
       "105878  Université Paris Nanterre (92), située en Haut...   \n",
       "105879  Ecole Universitaire de Premier Cycle - Univers...   \n",
       "105880  Lycée Maurice Genevoix (Montrouge - 92), situé...   \n",
       "105881  Ecole Universitaire de premier cycle - Campus ...   \n",
       "105882  Lycée Montalembert (Courbevoie - 92), située e...   \n",
       "\n",
       "                                                      url  \n",
       "0       https://dossier.parcoursup.fr/Candidats/public...  \n",
       "1       https://dossier.parcoursup.fr/Candidats/public...  \n",
       "2       https://dossier.parcoursup.fr/Candidats/public...  \n",
       "3       https://dossier.parcoursup.fr/Candidats/public...  \n",
       "4       https://dossier.parcoursup.fr/Candidats/public...  \n",
       "...                                                   ...  \n",
       "105878                                                NaN  \n",
       "105879                                                NaN  \n",
       "105880                                                NaN  \n",
       "105881                                                NaN  \n",
       "105882                                                NaN  \n",
       "\n",
       "[105883 rows x 2 columns]"
      ]
     },
     "metadata": {},
     "output_type": "display_data"
    }
   ],
   "source": [
    "df_desc = create_dataframe_description(formations_dataset)\n",
    "display(df_desc)\n",
    "#export\n",
    "df_desc.to_csv('formations_description.csv', index=False)"
   ]
  },
  {
   "cell_type": "markdown",
   "metadata": {},
   "source": [
    "### Conversion to embeddings"
   ]
  },
  {
   "cell_type": "code",
   "execution_count": 67,
   "metadata": {},
   "outputs": [],
   "source": [
    "from sentence_transformers import SentenceTransformer"
   ]
  },
  {
   "cell_type": "code",
   "execution_count": 68,
   "metadata": {},
   "outputs": [
    {
     "name": "stderr",
     "output_type": "stream",
     "text": [
      "/home/zatomos/miniconda3/envs/pt/lib/python3.11/site-packages/huggingface_hub/file_download.py:1132: FutureWarning: `resume_download` is deprecated and will be removed in version 1.0.0. Downloads always resume when possible. If you want to force a new download, use `force_download=True`.\n",
      "  warnings.warn(\n"
     ]
    }
   ],
   "source": [
    "formations_dataset = pd.read_csv('formations_description.csv')\n",
    "formations_dataset.drop_duplicates(subset=['description'], inplace=True)\n",
    "model = SentenceTransformer('sentence-transformers/all-MiniLM-L6-v2')\n",
    "embeddings = model.encode(formations_dataset['description'].values)\n",
    "\n",
    "# export embeddings\n",
    "pd.DataFrame(embeddings).to_csv('formations_embeddings.csv', index=False)"
   ]
  }
 ],
 "metadata": {
  "kernelspec": {
   "display_name": "pt",
   "language": "python",
   "name": "python3"
  },
  "language_info": {
   "codemirror_mode": {
    "name": "ipython",
    "version": 3
   },
   "file_extension": ".py",
   "mimetype": "text/x-python",
   "name": "python",
   "nbconvert_exporter": "python",
   "pygments_lexer": "ipython3",
   "version": "3.11.9"
  }
 },
 "nbformat": 4,
 "nbformat_minor": 2
}
